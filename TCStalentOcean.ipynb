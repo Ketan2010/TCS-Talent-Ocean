{
  "nbformat": 4,
  "nbformat_minor": 0,
  "metadata": {
    "colab": {
      "name": "TCStalentOcean.ipynb",
      "provenance": [],
      "collapsed_sections": [],
      "authorship_tag": "ABX9TyMqmh721RFPhTU5M1wTqrJB",
      "include_colab_link": true
    },
    "kernelspec": {
      "name": "python3",
      "display_name": "Python 3"
    }
  },
  "cells": [
    {
      "cell_type": "markdown",
      "metadata": {
        "id": "view-in-github",
        "colab_type": "text"
      },
      "source": [
        "<a href=\"https://colab.research.google.com/github/Ketan2010/TCS-Talent-Ocean/blob/main/TCStalentOcean.ipynb\" target=\"_parent\"><img src=\"https://colab.research.google.com/assets/colab-badge.svg\" alt=\"Open In Colab\"/></a>"
      ]
    },
    {
      "cell_type": "markdown",
      "metadata": {
        "id": "u-sDOxpDlUl6"
      },
      "source": [
        "**TCS TALENT OCEAN** <br>\r\n",
        "Name: Ketan Shantaram Patil <br>\r\n",
        "CT Number: CT20203174022 <br>\r\n",
        "Gmail: k2p1020@gmail.com <br>\r\n",
        "Contact Number: 7744895120 <br>\r\n",
        "College Name: Vidyalankar Institute of Technology, Mumbai <br>\r\n",
        "Current Education: Bachelor of engineering Information \r\n",
        "Technology (T.E)"
      ]
    },
    {
      "cell_type": "code",
      "metadata": {
        "id": "rr0nyoc1fLYw"
      },
      "source": [
        "#import libraries\r\n",
        "import pandas as pd\r\n",
        "#for data visualization\r\n",
        "import matplotlib.pyplot as plt"
      ],
      "execution_count": 1,
      "outputs": []
    },
    {
      "cell_type": "code",
      "metadata": {
        "id": "3HKYojinfVMx"
      },
      "source": [
        "#get dataframes of project(project id, location, required skills, description) \r\n",
        "project = pd.read_csv('project.csv')\r\n",
        "#get dataframe of candidate(candidate id, location, skills)\r\n",
        "candidate = pd.read_csv('candidate.csv')"
      ],
      "execution_count": 2,
      "outputs": []
    },
    {
      "cell_type": "code",
      "metadata": {
        "colab": {
          "base_uri": "https://localhost:8080/"
        },
        "id": "555ctan4fZtf",
        "outputId": "789f895e-e68a-4750-b13b-ca667eba3956"
      },
      "source": [
        "# extract only required data from complete dataframe of project\r\n",
        "proj_skill = project[['id','location','required_skills']]\r\n",
        "#rename column reuired_skills to skills\r\n",
        "#for simplification\r\n",
        "proj_skill.rename(columns = {'required_skills':'skills'}, inplace = True) \r\n",
        "# extract only required data from complete dataframe of candidates\r\n",
        "candi_skill = candidate[['candidate_id','location','skills']]"
      ],
      "execution_count": 3,
      "outputs": [
        {
          "output_type": "stream",
          "text": [
            "/usr/local/lib/python3.6/dist-packages/pandas/core/frame.py:4308: SettingWithCopyWarning: \n",
            "A value is trying to be set on a copy of a slice from a DataFrame\n",
            "\n",
            "See the caveats in the documentation: https://pandas.pydata.org/pandas-docs/stable/user_guide/indexing.html#returning-a-view-versus-a-copy\n",
            "  errors=errors,\n"
          ],
          "name": "stderr"
        }
      ]
    },
    {
      "cell_type": "code",
      "metadata": {
        "id": "80Eefx3DfkZa"
      },
      "source": [
        "# convert dataframes data into lower case so that it will be easy to compare.\r\n",
        "candi_skill = candi_skill.apply(lambda x: x.astype(str).str.lower())\r\n",
        "proj_skill = proj_skill.apply(lambda x: x.astype(str).str.lower())"
      ],
      "execution_count": 4,
      "outputs": []
    },
    {
      "cell_type": "markdown",
      "metadata": {
        "id": "LMKrjkx-Ui4L"
      },
      "source": [
        "Process of data cleansing"
      ]
    },
    {
      "cell_type": "code",
      "metadata": {
        "id": "kONbPySLgHkS"
      },
      "source": [
        "# data cleansing: convert multiple possible skills into simple single skill : for candidates dataframe\r\n",
        "candi_skill = candi_skill.replace(['java programming', 'java language', 'core java', 'programming in java', 'java se'],'java',regex=True)\r\n",
        "candi_skill = candi_skill.replace(['c programming', 'c language', 'programming in c'],'c',regex=True)\r\n",
        "candi_skill = candi_skill.replace(['cpp programming','cpp language'],'c++',regex=True)\r\n",
        "candi_skill = candi_skill.replace(['android studio', 'android developement','android app developement'],'android',regex=True)\r\n",
        "candi_skill = candi_skill.replace(['r programming', 'r language', 'programming in r'],'r',regex=True)\r\n",
        "candi_skill = candi_skill.replace(['python programming', 'python language', 'programming in python', 'pyhon','python3'],'python',regex=True)\r\n",
        "candi_skill = candi_skill.replace(['database','dbms', 'database system', 'database design','postgres database'],'database management system',regex=True)\r\n",
        "candi_skill = candi_skill.replace(['basic programming skills', 'good coding skills', 'deep programming skills','good programming skills', 'programming skills','any programming skills', 'programming skills and digital skills', 'programming and digital skills'],'c,c++,java,python,r',regex=True)\r\n",
        "candi_skill = candi_skill.replace(['web skills'],'web development',regex=True)\r\n",
        "candi_skill = candi_skill.replace(['understanding of angular framework','angular  based hybrid mobile app'],'angular',regex=True)\r\n",
        "candi_skill = candi_skill.replace(['cloud knowledge', 'cloud concepts'],'cloud',regex=True)\r\n",
        "candi_skill = candi_skill.replace(['ml/dl','machine learning/dl'],'ml,deep learning',regex=True)\r\n",
        "candi_skill = candi_skill.replace(['ms sql', 'mysql', 'structured query language'],'sql',regex=True)\r\n",
        "candi_skill = candi_skill.replace(['c#'],'c sharp',regex=True)\r\n",
        "candi_skill = candi_skill.replace(['java scripting knowledge'],'javascript',regex=True)\r\n",
        "\r\n",
        "\r\n",
        "#replace & / and by ','\r\n",
        "candi_skill = candi_skill.replace(['java/j2ee'],'java,j2ee',regex=True)\r\n",
        "candi_skill = candi_skill.replace(['rpa with ai & machine learning'],'rpa,artificial intelligence,ml',regex=True)\r\n",
        "candi_skill = candi_skill.replace(['mysql - good database concepts'],'sql,dbms',regex=True)\r\n",
        "candi_skill = candi_skill.replace(['abby & python'],'abby,python',regex=True)\r\n",
        "candi_skill = candi_skill.replace(['mongodb ml'],'mongodb,ml',regex=True)\r\n",
        "candi_skill = candi_skill.replace(['rpa with ai & ml'],'rpa,artificial intelligence,ml',regex=True)\r\n",
        "candi_skill = candi_skill.replace(['ios and android development'],'ios development,android',regex=True)\r\n",
        "candi_skill = candi_skill.replace([ 'ai/ml basics', 'ai/ ml', 'ai/machine learning'],'artificial intelligence,ml',regex=True)\r\n",
        "candi_skill = candi_skill.replace(['exposure to machine learning concepts and algorithms', 'ml development knowledge', 'ml techniques', 'machine learning','machine learning basics'],'ml',regex=True)\r\n",
        "candi_skill = candi_skill.replace(['python/r programming', 'python/r'],'python,r',regex=True)\r\n",
        "candi_skill = candi_skill.replace(['ml & python'],'machine learning,python',regex=True)\r\n",
        "candi_skill = candi_skill.replace(['mongodb machine learning'],'mongodb,ml',regex=True)"
      ],
      "execution_count": 5,
      "outputs": []
    },
    {
      "cell_type": "code",
      "metadata": {
        "id": "YJJIY5j7WdPD"
      },
      "source": [
        "# data cleansing: convert multiple possible skills into simple single skill : for projects dataframe\r\n",
        "proj_skill = proj_skill.replace(['java programming', 'java language', 'core java', 'programming in java', 'java se'],'java',regex=True)\r\n",
        "proj_skill = proj_skill.replace(['c programming', 'c language', 'programming in c'],'c',regex=True)\r\n",
        "proj_skill = proj_skill.replace(['cpp programming','cpp language'],'c++',regex=True)\r\n",
        "proj_skill = proj_skill.replace(['android studio', 'android developement','android app developement'],'android',regex=True)\r\n",
        "proj_skill = proj_skill.replace(['r programming', 'r language', 'programming in r'],'r',regex=True)\r\n",
        "proj_skill = proj_skill.replace(['python programming', 'python language', 'programming in python', 'pyhon','python3'],'python',regex=True)\r\n",
        "proj_skill = proj_skill.replace(['database','dbms', 'database system', 'database design','postgres database'],'database management system',regex=True)\r\n",
        "proj_skill = proj_skill.replace(['basic programming skills', 'good coding skills', 'deep programming skills','good programming skills', 'programming skills','any programming skills', 'programming skills and digital skills', 'programming and digital skills'],'c,c++,java,python,r',regex=True)\r\n",
        "proj_skill = proj_skill.replace(['web skills'],'web development',regex=True)\r\n",
        "proj_skill = proj_skill.replace(['understanding of angular framework','angular  based hybrid mobile app'],'angular',regex=True)\r\n",
        "proj_skill = proj_skill.replace(['cloud knowledge', 'cloud concepts'],'cloud',regex=True)\r\n",
        "proj_skill = proj_skill.replace(['ml/dl','machine learning/dl'],'ml,deep learning',regex=True)\r\n",
        "proj_skill = proj_skill.replace(['ms sql', 'mysql', 'structured query language'],'sql',regex=True)\r\n",
        "proj_skill = proj_skill.replace(['c#'],'c sharp',regex=True)\r\n",
        "proj_skill = proj_skill.replace(['java scripting knowledge'],'javascript',regex=True)\r\n",
        "\r\n",
        "\r\n",
        "#replace & / and by ','\r\n",
        "proj_skill = proj_skill.replace(['java/j2ee'],'java,j2ee',regex=True)\r\n",
        "proj_skill = proj_skill.replace(['rpa with ai & machine learning'],'rpa,artificial intelligence,ml',regex=True)\r\n",
        "proj_skill = proj_skill.replace(['mysql - good database concepts'],'sql,dbms',regex=True)\r\n",
        "proj_skill = proj_skill.replace(['abby & python'],'abby,python',regex=True)\r\n",
        "proj_skill = proj_skill.replace(['mongodb ml'],'mongodb,ml',regex=True)\r\n",
        "proj_skill = proj_skill.replace(['rpa with ai & ml'],'rpa,artificial intelligence,ml',regex=True)\r\n",
        "proj_skill = proj_skill.replace(['ios and android development'],'ios development,android',regex=True)\r\n",
        "proj_skill = proj_skill.replace([ 'ai/ml basics', 'ai/ ml', 'ai/machine learning'],'artificial intelligence,ml',regex=True)\r\n",
        "proj_skill = proj_skill.replace(['exposure to machine learning concepts and algorithms', 'ml development knowledge', 'ml techniques', 'machine learning','machine learning basics'],'ml',regex=True)\r\n",
        "proj_skill = proj_skill.replace(['python/r programming', 'python/r'],'python,r',regex=True)\r\n",
        "proj_skill = proj_skill.replace(['ml & python'],'machine learning,python',regex=True)\r\n",
        "proj_skill = proj_skill.replace(['mongodb machine learning'],'mongodb,ml',regex=True)"
      ],
      "execution_count": 6,
      "outputs": []
    },
    {
      "cell_type": "code",
      "metadata": {
        "id": "Yt-dZvvXgLpA"
      },
      "source": [
        "# convert comma seperated skills into list\r\n",
        "candi_skill.skills = candi_skill.skills.str.split(',')\r\n",
        "proj_skill.skills = proj_skill.skills.str.split(',')"
      ],
      "execution_count": 7,
      "outputs": []
    },
    {
      "cell_type": "code",
      "metadata": {
        "colab": {
          "base_uri": "https://localhost:8080/",
          "height": 204
        },
        "id": "-sQmoQT5fv0n",
        "outputId": "7d70e07e-1b8b-4b46-f458-e11f78dc99c4"
      },
      "source": [
        "# print final dataframe of candidate which contains candidate id, skills and location\r\n",
        "candi_skill.head()"
      ],
      "execution_count": 8,
      "outputs": [
        {
          "output_type": "execute_result",
          "data": {
            "text/html": [
              "<div>\n",
              "<style scoped>\n",
              "    .dataframe tbody tr th:only-of-type {\n",
              "        vertical-align: middle;\n",
              "    }\n",
              "\n",
              "    .dataframe tbody tr th {\n",
              "        vertical-align: top;\n",
              "    }\n",
              "\n",
              "    .dataframe thead th {\n",
              "        text-align: right;\n",
              "    }\n",
              "</style>\n",
              "<table border=\"1\" class=\"dataframe\">\n",
              "  <thead>\n",
              "    <tr style=\"text-align: right;\">\n",
              "      <th></th>\n",
              "      <th>candidate_id</th>\n",
              "      <th>location</th>\n",
              "      <th>skills</th>\n",
              "    </tr>\n",
              "  </thead>\n",
              "  <tbody>\n",
              "    <tr>\n",
              "      <th>0</th>\n",
              "      <td>c1</td>\n",
              "      <td>kolkata</td>\n",
              "      <td>[c, c++, java, android, msoffice, python]</td>\n",
              "    </tr>\n",
              "    <tr>\n",
              "      <th>1</th>\n",
              "      <td>c3</td>\n",
              "      <td>chennai</td>\n",
              "      <td>[networking, c, python]</td>\n",
              "    </tr>\n",
              "    <tr>\n",
              "      <th>2</th>\n",
              "      <td>c7</td>\n",
              "      <td>chennai</td>\n",
              "      <td>[unity 3d, ar, c sharp, c, java, servlet and j...</td>\n",
              "    </tr>\n",
              "    <tr>\n",
              "      <th>3</th>\n",
              "      <td>c15</td>\n",
              "      <td>mumbai</td>\n",
              "      <td>[javascript, c++, java, python, css, html, mon...</td>\n",
              "    </tr>\n",
              "    <tr>\n",
              "      <th>4</th>\n",
              "      <td>c16</td>\n",
              "      <td>kolkata</td>\n",
              "      <td>[c, java, python, data structures   algorithms...</td>\n",
              "    </tr>\n",
              "  </tbody>\n",
              "</table>\n",
              "</div>"
            ],
            "text/plain": [
              "  candidate_id location                                             skills\n",
              "0           c1  kolkata          [c, c++, java, android, msoffice, python]\n",
              "1           c3  chennai                            [networking, c, python]\n",
              "2           c7  chennai  [unity 3d, ar, c sharp, c, java, servlet and j...\n",
              "3          c15   mumbai  [javascript, c++, java, python, css, html, mon...\n",
              "4          c16  kolkata  [c, java, python, data structures   algorithms..."
            ]
          },
          "metadata": {
            "tags": []
          },
          "execution_count": 8
        }
      ]
    },
    {
      "cell_type": "code",
      "metadata": {
        "colab": {
          "base_uri": "https://localhost:8080/",
          "height": 204
        },
        "id": "fadASW9Yfyol",
        "outputId": "3ced0566-e7a0-42bd-b295-8db97d2acc6c"
      },
      "source": [
        "# print final dataframe of projects which contains project id, location and required skills\r\n",
        "proj_skill.head()"
      ],
      "execution_count": 9,
      "outputs": [
        {
          "output_type": "execute_result",
          "data": {
            "text/html": [
              "<div>\n",
              "<style scoped>\n",
              "    .dataframe tbody tr th:only-of-type {\n",
              "        vertical-align: middle;\n",
              "    }\n",
              "\n",
              "    .dataframe tbody tr th {\n",
              "        vertical-align: top;\n",
              "    }\n",
              "\n",
              "    .dataframe thead th {\n",
              "        text-align: right;\n",
              "    }\n",
              "</style>\n",
              "<table border=\"1\" class=\"dataframe\">\n",
              "  <thead>\n",
              "    <tr style=\"text-align: right;\">\n",
              "      <th></th>\n",
              "      <th>id</th>\n",
              "      <th>location</th>\n",
              "      <th>skills</th>\n",
              "    </tr>\n",
              "  </thead>\n",
              "  <tbody>\n",
              "    <tr>\n",
              "      <th>0</th>\n",
              "      <td>p3</td>\n",
              "      <td>kolkata</td>\n",
              "      <td>[anroid,  ios development]</td>\n",
              "    </tr>\n",
              "    <tr>\n",
              "      <th>1</th>\n",
              "      <td>p4</td>\n",
              "      <td>kolkata</td>\n",
              "      <td>[java, python, groovy]</td>\n",
              "    </tr>\n",
              "    <tr>\n",
              "      <th>2</th>\n",
              "      <td>p5</td>\n",
              "      <td>kolkata</td>\n",
              "      <td>[python, groovy, java]</td>\n",
              "    </tr>\n",
              "    <tr>\n",
              "      <th>3</th>\n",
              "      <td>p6</td>\n",
              "      <td>kolkata</td>\n",
              "      <td>[python, groovy, java]</td>\n",
              "    </tr>\n",
              "    <tr>\n",
              "      <th>4</th>\n",
              "      <td>p7</td>\n",
              "      <td>chennai</td>\n",
              "      <td>[ui/ux designing skills]</td>\n",
              "    </tr>\n",
              "  </tbody>\n",
              "</table>\n",
              "</div>"
            ],
            "text/plain": [
              "   id location                      skills\n",
              "0  p3  kolkata  [anroid,  ios development]\n",
              "1  p4  kolkata      [java, python, groovy]\n",
              "2  p5  kolkata      [python, groovy, java]\n",
              "3  p6  kolkata      [python, groovy, java]\n",
              "4  p7  chennai    [ui/ux designing skills]"
            ]
          },
          "metadata": {
            "tags": []
          },
          "execution_count": 9
        }
      ]
    },
    {
      "cell_type": "markdown",
      "metadata": {
        "id": "NxR6SBDRnMf4"
      },
      "source": [
        "final comparison between reuired skills and candidate skills<br>\r\n",
        "Caculating matching factor"
      ]
    },
    {
      "cell_type": "code",
      "metadata": {
        "id": "oo4K66Vlz6HP"
      },
      "source": [
        "#initialize empty lists which will be further need to design final dataframe\r\n",
        "#and to store suitable candidates and their matching percentage respectively\r\n",
        "candidates_list = []\r\n",
        "percentage_list = []\r\n",
        "#iterate through project id \r\n",
        "for i in proj_skill.index:\r\n",
        "  #total number of reuired skills\r\n",
        "  total_req_skill = len(proj_skill['skills'][i])\r\n",
        "  n =[]\r\n",
        "  #iterate through candidates id for every project id\r\n",
        "  for j in candi_skill.index:\r\n",
        "    #get number of matching skills of candidate with requied skills\r\n",
        "    matched_skills = len(set(proj_skill['skills'][i]) & set(candi_skill['skills'][j]))\r\n",
        "    #give 90% weightage to matching skills\r\n",
        "    #calculate 90% of matching factor\r\n",
        "    factor = (matched_skills/total_req_skill)*90\r\n",
        "    #give 10% weightage to matching locations\r\n",
        "    if(proj_skill['location'][i] == candi_skill['location'][j]):\r\n",
        "      #add 10% if candidate having same location as that of project\r\n",
        "      factor = factor + 10\r\n",
        "    #add total factor after 2 digit rounding\r\n",
        "    n.append(round(factor,2))\r\n",
        "  #create dataframe to store matching factor\r\n",
        "  #convert list of matching factors into datframe df\r\n",
        "  df = pd.DataFrame(n,columns =['matched_factor'])\r\n",
        "  #merger dataframe of candidtae skills and calculated matching factors\r\n",
        "  df = pd.merge(candi_skill, df, left_index=True, right_index=True)\r\n",
        "  #sort result in descending order of matching factor \r\n",
        "  df = df.sort_values('matched_factor',ascending=False)\r\n",
        "  #get only top 5 candidates with highest matching factor\r\n",
        "  df = df.head(5)\r\n",
        "  #get resultant into list \r\n",
        "  x = df['candidate_id'].tolist()\r\n",
        "  y = df['matched_factor'].tolist()\r\n",
        "  #append ith project top 5 suitable candidates and their matching factor in list\r\n",
        "  candidates_list.append(x) # candidate_list contains top 5 candidates with higher percentage for every project\r\n",
        "  percentage_list.append(y) # percentage_list contains top 5 candidates matching percentage for every project\r\n"
      ],
      "execution_count": 10,
      "outputs": []
    },
    {
      "cell_type": "code",
      "metadata": {
        "id": "OOqJqWxwMDNw"
      },
      "source": [
        "#create new temeprory dataframe from existing dataframe of project skills\r\n",
        "x = proj_skill[['id']]\r\n",
        "#add two columns in it with default value any\r\n",
        "x.insert(1, \"suitable_candidates\", \"Any\")\r\n",
        "x.insert(2, \"matched_percentage\", \"Any\")"
      ],
      "execution_count": 11,
      "outputs": []
    },
    {
      "cell_type": "code",
      "metadata": {
        "colab": {
          "base_uri": "https://localhost:8080/"
        },
        "id": "c_93bIEKMGc_",
        "outputId": "80c5474b-baff-475d-854d-ba52d1e26939"
      },
      "source": [
        "#iterate through temprory dataframe \r\n",
        "for i in x.index:\r\n",
        "  #store suitable candidates from list\r\n",
        "  x['suitable_candidates'][i] = candidates_list[i]\r\n",
        "  #store thier matching factors from list\r\n",
        "  x['matched_percentage'][i] = percentage_list[i]"
      ],
      "execution_count": 12,
      "outputs": [
        {
          "output_type": "stream",
          "text": [
            "/usr/local/lib/python3.6/dist-packages/IPython/core/interactiveshell.py:2882: SettingWithCopyWarning: \n",
            "A value is trying to be set on a copy of a slice from a DataFrame\n",
            "\n",
            "See the caveats in the documentation: https://pandas.pydata.org/pandas-docs/stable/user_guide/indexing.html#returning-a-view-versus-a-copy\n",
            "  exec(code_obj, self.user_global_ns, self.user_ns)\n"
          ],
          "name": "stderr"
        }
      ]
    },
    {
      "cell_type": "code",
      "metadata": {
        "id": "98o404VSYLfG"
      },
      "source": [
        "#merge project skills and temporary dataframe to get final result\r\n",
        "final_df = pd.merge(proj_skill, x, left_index=True, right_index=True)"
      ],
      "execution_count": 13,
      "outputs": []
    },
    {
      "cell_type": "code",
      "metadata": {
        "id": "6buGs-FVO58O"
      },
      "source": [
        "#delete unneccesary / repeated column from dataframe\r\n",
        "del final_df['id_y']"
      ],
      "execution_count": 14,
      "outputs": []
    },
    {
      "cell_type": "code",
      "metadata": {
        "id": "IHwKWExfRK3r"
      },
      "source": [
        "#get dataframe file of solution \r\n",
        "#which contains projects id for which we need to find suitable condidates\r\n",
        "sol_form = pd.read_csv('sol_format.csv')"
      ],
      "execution_count": 15,
      "outputs": []
    },
    {
      "cell_type": "code",
      "metadata": {
        "colab": {
          "base_uri": "https://localhost:8080/",
          "height": 359
        },
        "id": "3xvur7_NTl-U",
        "outputId": "4961cd3b-6ef8-4654-99e9-972975e2e729"
      },
      "source": [
        "sol_form.head(10)"
      ],
      "execution_count": 16,
      "outputs": [
        {
          "output_type": "execute_result",
          "data": {
            "text/html": [
              "<div>\n",
              "<style scoped>\n",
              "    .dataframe tbody tr th:only-of-type {\n",
              "        vertical-align: middle;\n",
              "    }\n",
              "\n",
              "    .dataframe tbody tr th {\n",
              "        vertical-align: top;\n",
              "    }\n",
              "\n",
              "    .dataframe thead th {\n",
              "        text-align: right;\n",
              "    }\n",
              "</style>\n",
              "<table border=\"1\" class=\"dataframe\">\n",
              "  <thead>\n",
              "    <tr style=\"text-align: right;\">\n",
              "      <th></th>\n",
              "      <th>id</th>\n",
              "    </tr>\n",
              "  </thead>\n",
              "  <tbody>\n",
              "    <tr>\n",
              "      <th>0</th>\n",
              "      <td>p10</td>\n",
              "    </tr>\n",
              "    <tr>\n",
              "      <th>1</th>\n",
              "      <td>p100</td>\n",
              "    </tr>\n",
              "    <tr>\n",
              "      <th>2</th>\n",
              "      <td>p107</td>\n",
              "    </tr>\n",
              "    <tr>\n",
              "      <th>3</th>\n",
              "      <td>p115</td>\n",
              "    </tr>\n",
              "    <tr>\n",
              "      <th>4</th>\n",
              "      <td>p121</td>\n",
              "    </tr>\n",
              "    <tr>\n",
              "      <th>5</th>\n",
              "      <td>p127</td>\n",
              "    </tr>\n",
              "    <tr>\n",
              "      <th>6</th>\n",
              "      <td>p128</td>\n",
              "    </tr>\n",
              "    <tr>\n",
              "      <th>7</th>\n",
              "      <td>p138</td>\n",
              "    </tr>\n",
              "    <tr>\n",
              "      <th>8</th>\n",
              "      <td>p141</td>\n",
              "    </tr>\n",
              "    <tr>\n",
              "      <th>9</th>\n",
              "      <td>p155</td>\n",
              "    </tr>\n",
              "  </tbody>\n",
              "</table>\n",
              "</div>"
            ],
            "text/plain": [
              "     id\n",
              "0   p10\n",
              "1  p100\n",
              "2  p107\n",
              "3  p115\n",
              "4  p121\n",
              "5  p127\n",
              "6  p128\n",
              "7  p138\n",
              "8  p141\n",
              "9  p155"
            ]
          },
          "metadata": {
            "tags": []
          },
          "execution_count": 16
        }
      ]
    },
    {
      "cell_type": "code",
      "metadata": {
        "id": "Kpsq5PqrTquY"
      },
      "source": [
        "#add columns(location, skills, suitable_candidates and matched_percentage) in dataframe of solution\r\n",
        "sol_form.insert(1, \"location\", \"Any\") \r\n",
        "sol_form.insert(2, \"skills\", \"Any\")\r\n",
        "sol_form.insert(3, \"suitable_candidates\", \"Any\") \r\n",
        "sol_form.insert(4, \"matched_percentage\", \"Any\")"
      ],
      "execution_count": 17,
      "outputs": []
    },
    {
      "cell_type": "code",
      "metadata": {
        "id": "3k80nh6gUJph"
      },
      "source": [
        "#iterate through solution \r\n",
        "for i in sol_form.index:\r\n",
        "  #iterate thrugh final dataframe\r\n",
        "  for j in final_df.index:\r\n",
        "    #check for project id matching \r\n",
        "    if(sol_form['id'][i]==final_df['id_x'][j]):\r\n",
        "      #copy data from final dataframe to solution dataframe\r\n",
        "      sol_form['location'][i] = final_df['location'][j]\r\n",
        "      sol_form['skills'][i] = final_df['skills'][j]\r\n",
        "      sol_form['suitable_candidates'][i] = final_df['suitable_candidates'][j]\r\n",
        "      sol_form['matched_percentage'][i] = final_df['matched_percentage'][j]"
      ],
      "execution_count": 18,
      "outputs": []
    },
    {
      "cell_type": "code",
      "metadata": {
        "colab": {
          "base_uri": "https://localhost:8080/"
        },
        "id": "7vnSM1rdVDHq",
        "outputId": "01a53b7f-0019-4d1b-d50a-fd5255ec6c98"
      },
      "source": [
        "sol_form.info()"
      ],
      "execution_count": 19,
      "outputs": [
        {
          "output_type": "stream",
          "text": [
            "<class 'pandas.core.frame.DataFrame'>\n",
            "RangeIndex: 135 entries, 0 to 134\n",
            "Data columns (total 5 columns):\n",
            " #   Column               Non-Null Count  Dtype \n",
            "---  ------               --------------  ----- \n",
            " 0   id                   135 non-null    object\n",
            " 1   location             135 non-null    object\n",
            " 2   skills               135 non-null    object\n",
            " 3   suitable_candidates  135 non-null    object\n",
            " 4   matched_percentage   135 non-null    object\n",
            "dtypes: object(5)\n",
            "memory usage: 5.4+ KB\n"
          ],
          "name": "stdout"
        }
      ]
    },
    {
      "cell_type": "markdown",
      "metadata": {
        "id": "aw8t0r6BIvDe"
      },
      "source": [
        "# FINAL OUTPUT"
      ]
    },
    {
      "cell_type": "code",
      "metadata": {
        "id": "D3eMr4H46VE_"
      },
      "source": [
        "#store final result in solution.csv file.\r\n",
        "sol_form.to_csv(\"solution.csv\", index=False)"
      ],
      "execution_count": 20,
      "outputs": []
    },
    {
      "cell_type": "code",
      "metadata": {
        "id": "epjUrIYQ7kmc",
        "colab": {
          "base_uri": "https://localhost:8080/",
          "height": 359
        },
        "outputId": "7c4c4090-ccaf-407a-b9da-556791da54cd"
      },
      "source": [
        "sol_form.head(10)"
      ],
      "execution_count": 21,
      "outputs": [
        {
          "output_type": "execute_result",
          "data": {
            "text/html": [
              "<div>\n",
              "<style scoped>\n",
              "    .dataframe tbody tr th:only-of-type {\n",
              "        vertical-align: middle;\n",
              "    }\n",
              "\n",
              "    .dataframe tbody tr th {\n",
              "        vertical-align: top;\n",
              "    }\n",
              "\n",
              "    .dataframe thead th {\n",
              "        text-align: right;\n",
              "    }\n",
              "</style>\n",
              "<table border=\"1\" class=\"dataframe\">\n",
              "  <thead>\n",
              "    <tr style=\"text-align: right;\">\n",
              "      <th></th>\n",
              "      <th>id</th>\n",
              "      <th>location</th>\n",
              "      <th>skills</th>\n",
              "      <th>suitable_candidates</th>\n",
              "      <th>matched_percentage</th>\n",
              "    </tr>\n",
              "  </thead>\n",
              "  <tbody>\n",
              "    <tr>\n",
              "      <th>0</th>\n",
              "      <td>p10</td>\n",
              "      <td>chennai</td>\n",
              "      <td>[android, java, mongodb ml]</td>\n",
              "      <td>[c567, c502, c1, c345, c120]</td>\n",
              "      <td>[70.0, 70.0, 60.0, 60.0, 60.0]</td>\n",
              "    </tr>\n",
              "    <tr>\n",
              "      <th>1</th>\n",
              "      <td>p100</td>\n",
              "      <td>chennai</td>\n",
              "      <td>[spring boot, sql, java, j2ee]</td>\n",
              "      <td>[c567, c549, c183, c393, c109]</td>\n",
              "      <td>[77.5, 67.5, 55.0, 55.0, 55.0]</td>\n",
              "    </tr>\n",
              "    <tr>\n",
              "      <th>2</th>\n",
              "      <td>p107</td>\n",
              "      <td>delhi</td>\n",
              "      <td>[java, python, xamarin, vuforia, arcore,  ios ...</td>\n",
              "      <td>[c1, c472, c345, c375, c567]</td>\n",
              "      <td>[38.57, 38.57, 38.57, 38.57, 38.57]</td>\n",
              "    </tr>\n",
              "    <tr>\n",
              "      <th>3</th>\n",
              "      <td>p115</td>\n",
              "      <td>mumbai</td>\n",
              "      <td>[python]</td>\n",
              "      <td>[c813, c15, c145, c788, c612]</td>\n",
              "      <td>[100.0, 100.0, 100.0, 100.0, 100.0]</td>\n",
              "    </tr>\n",
              "    <tr>\n",
              "      <th>4</th>\n",
              "      <td>p121</td>\n",
              "      <td>delhi</td>\n",
              "      <td>[c, c++, java, python, r]</td>\n",
              "      <td>[c441, c1, c477, c183, c189]</td>\n",
              "      <td>[100.0, 72.0, 72.0, 72.0, 72.0]</td>\n",
              "    </tr>\n",
              "    <tr>\n",
              "      <th>5</th>\n",
              "      <td>p127</td>\n",
              "      <td>noida</td>\n",
              "      <td>[c, c++, java, python, r]</td>\n",
              "      <td>[c441, c1, c477, c183, c189]</td>\n",
              "      <td>[90.0, 72.0, 72.0, 72.0, 72.0]</td>\n",
              "    </tr>\n",
              "    <tr>\n",
              "      <th>6</th>\n",
              "      <td>p128</td>\n",
              "      <td>noida</td>\n",
              "      <td>[c, c++, java, python, r]</td>\n",
              "      <td>[c441, c1, c477, c183, c189]</td>\n",
              "      <td>[90.0, 72.0, 72.0, 72.0, 72.0]</td>\n",
              "    </tr>\n",
              "    <tr>\n",
              "      <th>7</th>\n",
              "      <td>p138</td>\n",
              "      <td>hyderabad</td>\n",
              "      <td>[java, database management system exposure]</td>\n",
              "      <td>[c816, c472, c535, c337, c110]</td>\n",
              "      <td>[55.0, 55.0, 55.0, 55.0, 55.0]</td>\n",
              "    </tr>\n",
              "    <tr>\n",
              "      <th>8</th>\n",
              "      <td>p141</td>\n",
              "      <td>hyderabad</td>\n",
              "      <td>[react.js, javascript, html 5 and css3]</td>\n",
              "      <td>[c549, c101, c429, c164, c795]</td>\n",
              "      <td>[60.0, 40.0, 40.0, 40.0, 40.0]</td>\n",
              "    </tr>\n",
              "    <tr>\n",
              "      <th>9</th>\n",
              "      <td>p155</td>\n",
              "      <td>hyderabad</td>\n",
              "      <td>[c, c++, java, python, r ]</td>\n",
              "      <td>[c646, c640, c530, c420, c429]</td>\n",
              "      <td>[82.0, 82.0, 82.0, 82.0, 82.0]</td>\n",
              "    </tr>\n",
              "  </tbody>\n",
              "</table>\n",
              "</div>"
            ],
            "text/plain": [
              "     id  ...                   matched_percentage\n",
              "0   p10  ...       [70.0, 70.0, 60.0, 60.0, 60.0]\n",
              "1  p100  ...       [77.5, 67.5, 55.0, 55.0, 55.0]\n",
              "2  p107  ...  [38.57, 38.57, 38.57, 38.57, 38.57]\n",
              "3  p115  ...  [100.0, 100.0, 100.0, 100.0, 100.0]\n",
              "4  p121  ...      [100.0, 72.0, 72.0, 72.0, 72.0]\n",
              "5  p127  ...       [90.0, 72.0, 72.0, 72.0, 72.0]\n",
              "6  p128  ...       [90.0, 72.0, 72.0, 72.0, 72.0]\n",
              "7  p138  ...       [55.0, 55.0, 55.0, 55.0, 55.0]\n",
              "8  p141  ...       [60.0, 40.0, 40.0, 40.0, 40.0]\n",
              "9  p155  ...       [82.0, 82.0, 82.0, 82.0, 82.0]\n",
              "\n",
              "[10 rows x 5 columns]"
            ]
          },
          "metadata": {
            "tags": []
          },
          "execution_count": 21
        }
      ]
    },
    {
      "cell_type": "markdown",
      "metadata": {
        "id": "bF0SY6SnIozo"
      },
      "source": [
        "# DATA VISUALIZATION"
      ]
    },
    {
      "cell_type": "code",
      "metadata": {
        "id": "VQgPYhDy3rcb"
      },
      "source": [
        "# graph to show project against matching factor\r\n",
        "factor_list=[]\r\n",
        "proj_id_list=[]\r\n",
        "for i in sol_form.index:\r\n",
        "  f=[]\r\n",
        "  f = list(sol_form['matched_percentage'][i])\r\n",
        "  factor_list.append(f[0])\r\n",
        "  proj_id_list.append(sol_form['id'][i])"
      ],
      "execution_count": 22,
      "outputs": []
    },
    {
      "cell_type": "code",
      "metadata": {
        "colab": {
          "base_uri": "https://localhost:8080/",
          "height": 451
        },
        "id": "D5zNscYdKWQp",
        "outputId": "8c3a08bf-32c3-48d4-a708-022fb0ed3cd2"
      },
      "source": [
        "plt.figure(figsize=(30,10))\r\n",
        "plt.bar(proj_id_list, factor_list, color=\"blue\")"
      ],
      "execution_count": 23,
      "outputs": [
        {
          "output_type": "execute_result",
          "data": {
            "text/plain": [
              "<BarContainer object of 135 artists>"
            ]
          },
          "metadata": {
            "tags": []
          },
          "execution_count": 23
        },
        {
          "output_type": "display_data",
          "data": {
            "image/png": "[encoded data removed]",
            "text/plain": [
              "<Figure size 2160x720 with 1 Axes>"
            ]
          },
          "metadata": {
            "tags": [],
            "needs_background": "light"
          }
        }
      ]
    },
    {
      "cell_type": "code",
      "metadata": {
        "id": "XVgjt5ueIaiX"
      },
      "source": [
        "# Claculation of required data for Pie chart to show matching factors for projects\r\n",
        "zero_to_twenty=0\r\n",
        "twenty_to_fourty=0\r\n",
        "fourty_to_sixty=0\r\n",
        "sixty_to_eighty=0\r\n",
        "eighty_to_hundred=0\r\n",
        "for i in factor_list:\r\n",
        "  if(0<=i and i<=20):\r\n",
        "    zero_to_twenty += 1 \r\n",
        "  elif(21<=i and i<=40):\r\n",
        "    twenty_to_fourty += 1 \r\n",
        "  elif(41<=i and i<=60):\r\n",
        "    fourty_to_sixty += 1 \r\n",
        "  elif(61<=i and i<=90):\r\n",
        "    sixty_to_eighty += 1 \r\n",
        "  elif(81<=i and i<=100):\r\n",
        "    eighty_to_hundred += 1 "
      ],
      "execution_count": 24,
      "outputs": []
    },
    {
      "cell_type": "code",
      "metadata": {
        "colab": {
          "base_uri": "https://localhost:8080/",
          "height": 575
        },
        "id": "oIQvuWgkSkcR",
        "outputId": "bfd79c96-20a4-4930-f72a-a88fc5dcf65d"
      },
      "source": [
        "import numpy as np\r\n",
        "y = np.array([zero_to_twenty, twenty_to_fourty, fourty_to_sixty, sixty_to_eighty, eighty_to_hundred])\r\n",
        "mylabels = [\"0% - 20%\", \"21% - 40%\", \"41% - 60%\", \"61% - 80%\", \"81% - 100%\"]\r\n",
        "plt.figure(figsize=(30,10))\r\n",
        "plt.pie(y, labels = mylabels)\r\n",
        "plt.show() "
      ],
      "execution_count": 25,
      "outputs": [
        {
          "output_type": "display_data",
          "data": {
            "image/png": "[encoded data removed]",
            "text/plain": [
              "<Figure size 2160x720 with 1 Axes>"
            ]
          },
          "metadata": {
            "tags": []
          }
        }
      ]
    },
    {
      "cell_type": "code",
      "metadata": {
        "id": "LAt23PGN1noX"
      },
      "source": [
        ""
      ],
      "execution_count": 25,
      "outputs": []
    }
  ]
}